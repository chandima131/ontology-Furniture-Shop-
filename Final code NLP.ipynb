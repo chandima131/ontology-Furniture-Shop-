{
 "cells": [
  {
   "cell_type": "code",
   "execution_count": 1,
   "id": "ff97cbbb",
   "metadata": {},
   "outputs": [],
   "source": [
    "import re\n",
    "from string import punctuation\n",
    "import nltk\n",
    "import string\n",
    "from nltk.corpus import stopwords\n",
    "stopwords = nltk.corpus.stopwords.words('english')\n",
    "from nltk.tokenize import word_tokenize\n",
    "from nltk.stem import PorterStemmer\n",
    "from nltk.stem import WordNetLemmatizer\n",
    "from nltk.corpus import stopwords\n"
   ]
  },
  {
   "cell_type": "code",
   "execution_count": 2,
   "id": "97700c83",
   "metadata": {},
   "outputs": [],
   "source": [
    "def normalize(text):\n",
    "    processed_text =  re.sub(f\"[{re.escape(punctuation)}]\", \"\", text)\n",
    "    processed_text = \" \".join(processed_text.split())\n",
    "    return processed_text\n",
    "\n",
    "def lemmatize(processed_text):\n",
    "    wordnet_lemmatizer = WordNetLemmatizer()\n",
    "    tokens = word_tokenize(processed_text)\n",
    "    required_words = [wordnet_lemmatizer.lemmatize(x, 'v') for x in  tokens]\n",
    "    sentence_with_lemmnatized_word = \" \".join(required_words)\n",
    "    return sentence_with_lemmnatized_word\n",
    "\n",
    "def process_text(text):\n",
    "    text = normalize(text)\n",
    "    text = lemmatize(text)\n",
    "    return text"
   ]
  },
  {
   "cell_type": "code",
   "execution_count": 3,
   "id": "d6e1c45b",
   "metadata": {},
   "outputs": [],
   "source": [
    "#import nltk\n",
    "#from nltk.tokenize import word_tokenize\n",
    "from nltk.tag import pos_tag\n",
    "\n",
    "def create_pos_tags(sent):\n",
    "    sent = nltk.word_tokenize(sent)\n",
    "    sent = nltk.pos_tag(sent)\n",
    "    return sent\n",
    "\n",
    "\n"
   ]
  },
  {
   "cell_type": "code",
   "execution_count": 4,
   "id": "5e4a0f0f",
   "metadata": {},
   "outputs": [],
   "source": [
    "import stanza\n",
    "#stanza.download ('en')\n",
    "\n",
    "def get_named_entities(text):\n",
    "    nlp = stanza.Pipeline ('en', download_method=stanza.DownloadMethod.NONE)\n",
    "    results = nlp (text)\n",
    "    return results.entities"
   ]
  },
  {
   "cell_type": "code",
   "execution_count": 5,
   "id": "f01c1a21",
   "metadata": {},
   "outputs": [],
   "source": [
    "\n",
    "\n",
    "# Bag of Words\n",
    "prop_list = [['has_director','direct','directed by','director'], ['has_cast','cast'],['duration', 'length'],['brand','produce','manufactured by','manufacture',\"make\",\"made\"],\n",
    "             [\"Price\",'price'],['Available_Colors','color','colour'],['Material'],['Contact_number','telephone'],['Joined_Date','join'],['Shipping_Address','shipping', 'billing','bil']]\n",
    "class_list = [['movie', 'film', 'work_of_art'],['People', 'person'],['language'],['furniture', 'product']]"
   ]
  },
  {
   "cell_type": "code",
   "execution_count": 6,
   "id": "20bf9c73",
   "metadata": {},
   "outputs": [],
   "source": [
    "def map_property(word, prop_list):\n",
    "    mapped_property = \"\"\n",
    "    index = [[i, prop.index(word)]\n",
    "             for i, prop in enumerate(prop_list)\n",
    "             if word in prop]\n",
    "    if len(index) > 0:\n",
    "        mapped_property = prop_list[index[0][0]][0]\n",
    "    return mapped_property\n",
    "\n",
    "def map_class(word, class_list):\n",
    "    mapped_class = \"\"\n",
    "    index = [[i, cls.index(word)]\n",
    "             for i, cls in enumerate(class_list)\n",
    "             if word in cls]\n",
    "    if len(index) > 0:\n",
    "        mapped_class = class_list[index[0][0]][0]\n",
    "    return mapped_class"
   ]
  },
  {
   "cell_type": "code",
   "execution_count": 7,
   "id": "1376f009",
   "metadata": {},
   "outputs": [],
   "source": [
    "\n",
    "text = \"what is the price of Chesterfield_Sofa\"\n",
    "#text = \"what are the colors in Fabric_Dining_Chair\"\n",
    "#text= \"What is the joined date of Tharani?\"\n",
    "#text = \"what is the telephone number of James\"\n",
    "#text = \"All of bedroom_Furniture manufactured by ModernVases\"\n"
   ]
  },
  {
   "cell_type": "code",
   "execution_count": 8,
   "id": "35d6c206",
   "metadata": {},
   "outputs": [
    {
     "data": {
      "text/plain": [
       "[('what', 'WP'),\n",
       " ('be', 'VB'),\n",
       " ('the', 'DT'),\n",
       " ('price', 'NN'),\n",
       " ('of', 'IN'),\n",
       " ('ChesterfieldSofa', 'NNP')]"
      ]
     },
     "execution_count": 8,
     "metadata": {},
     "output_type": "execute_result"
    }
   ],
   "source": [
    "processed_text = process_text(text)\n",
    "tags = create_pos_tags(processed_text)\n",
    "tags"
   ]
  },
  {
   "cell_type": "code",
   "execution_count": 9,
   "id": "69be70c4",
   "metadata": {},
   "outputs": [],
   "source": [
    "def map_property(word, prop_list):\n",
    "    mapped_property = \"\"\n",
    "    index = [[i, prop.index(word)]\n",
    "             for i, prop in enumerate(prop_list)\n",
    "             if word in prop]\n",
    "    if len(index) > 0:\n",
    "        mapped_property = prop_list[index[0][0]][0]\n",
    "    return mapped_property\n",
    "\n",
    "def map_class(word, class_list):\n",
    "    mapped_class = \"\"\n",
    "    index = [[i, cls.index(word)]\n",
    "             for i, cls in enumerate(class_list)\n",
    "             if word in cls]\n",
    "    if len(index) > 0:\n",
    "        mapped_class = class_list[index[0][0]][0]\n",
    "    return mapped_class"
   ]
  },
  {
   "cell_type": "code",
   "execution_count": 10,
   "id": "7c6d9559",
   "metadata": {},
   "outputs": [
    {
     "name": "stderr",
     "output_type": "stream",
     "text": [
      "2023-11-20 17:48:46 INFO: Loading these models for language: en (English):\n",
      "======================================\n",
      "| Processor    | Package             |\n",
      "--------------------------------------\n",
      "| tokenize     | combined            |\n",
      "| pos          | combined_charlm     |\n",
      "| lemma        | combined_nocharlm   |\n",
      "| constituency | ptb3-revised_charlm |\n",
      "| depparse     | combined_charlm     |\n",
      "| sentiment    | sstplus             |\n",
      "| ner          | ontonotes_charlm    |\n",
      "======================================\n",
      "\n",
      "2023-11-20 17:48:46 INFO: Using device: cpu\n",
      "2023-11-20 17:48:46 INFO: Loading: tokenize\n"
     ]
    },
    {
     "name": "stdout",
     "output_type": "stream",
     "text": [
      "check entity:  (ORGANIZATION ChesterfieldSofa/NNP)\n"
     ]
    },
    {
     "name": "stderr",
     "output_type": "stream",
     "text": [
      "2023-11-20 17:48:46 INFO: Loading: pos\n",
      "2023-11-20 17:48:46 INFO: Loading: lemma\n",
      "2023-11-20 17:48:46 INFO: Loading: constituency\n",
      "2023-11-20 17:48:47 INFO: Loading: depparse\n",
      "2023-11-20 17:48:47 INFO: Loading: sentiment\n",
      "2023-11-20 17:48:47 INFO: Loading: ner\n",
      "2023-11-20 17:48:47 INFO: Done loading processors!\n"
     ]
    },
    {
     "name": "stdout",
     "output_type": "stream",
     "text": [
      "{\n",
      "  \"text\": \"Chesterfield_Sofa\",\n",
      "  \"type\": \"ORG\",\n",
      "  \"start_char\": 21,\n",
      "  \"end_char\": 38\n",
      "}\n",
      "Classes:  []\n",
      "Properties:  ['Price']\n",
      "Individuals:  {'Chesterfield_Sofa': 'not_mapped'}\n"
     ]
    }
   ],
   "source": [
    "#nltk.download('maxent_ne_chunker')\n",
    "#nltk.download('words')\n",
    "#!pip install pattern\n",
    "from pattern.text.en import pluralize\n",
    "\n",
    "tagged_chuncks = nltk.ne_chunk(tags) \n",
    "# Iterate over the named entities and print their labels \n",
    "classes = []\n",
    "properties = []\n",
    "individuals = {}\n",
    "\n",
    "for entity in tagged_chuncks: \n",
    "    if hasattr(entity, \"label\"): \n",
    "         print(\"check entity: \",entity)\n",
    "    else:\n",
    "        if entity[1] == \"NNS\":\n",
    "            mapped_class = map_class(pluralize(entity[0]), class_list)\n",
    "            if mapped_class!=\"\":\n",
    "                classes.append(mapped_class.pluralize())\n",
    "        elif entity[1] == \"VBP\":\n",
    "            mapped_property = map_property(entity[0], prop_list)\n",
    "            if mapped_property!=\"\": \n",
    "                properties.append(mapped_property)\n",
    "            \n",
    "        elif entity[1] == \"NN\":\n",
    "            mapped_property = map_property(entity[0], prop_list)\n",
    "            mapped_class = map_class(pluralize(entity[0]), class_list)\n",
    "            if mapped_property!=\"\": \n",
    "                properties.append(mapped_property)\n",
    "            elif mapped_class!=\"\":\n",
    "                classes.append(mapped_class.capitalize())\n",
    "\n",
    "######################## CREATE INDIVIDUALS ##############################\n",
    "named_entities = get_named_entities(text)\n",
    "\n",
    "for e in named_entities: \n",
    "    print(e)\n",
    "    mapped_ind_class = map_class(pluralize(e.type.lower()), class_list)\n",
    "    if mapped_ind_class!=\"\":\n",
    "        individuals[e.text] = mapped_ind_class.capitalize()\n",
    "    else:\n",
    "        individuals[e.text] = \"not_mapped\"\n",
    "        #classes.append(mapped_ind_class.capitalize())\n",
    "\n",
    "print(\"Classes: \",classes)\n",
    "print(\"Properties: \",properties)\n",
    "print(\"Individuals: \",individuals)"
   ]
  },
  {
   "cell_type": "code",
   "execution_count": 11,
   "id": "783d51e8",
   "metadata": {},
   "outputs": [
    {
     "name": "stdout",
     "output_type": "stream",
     "text": [
      "\n",
      "                PREFIX movie: <http://www.semanticweb.org/chand/ShopManagementSystem#>\n",
      "                SELECT  ?y\n",
      "                WHERE{\n",
      "                {?x movie:Price|^movie:Price ?y} {?x movie:name ?name} FILTER(?name='Chesterfield_Sofa')}\n"
     ]
    }
   ],
   "source": [
    "from SPARQLWrapper import SPARQLWrapper2\n",
    "sparql = SPARQLWrapper2(\"http://localhost:3030/FurnitureShopManagment/sparql\")\n",
    "c_triple = \"\"\n",
    "p_triple = \"\"\n",
    "i_triple = \"\"\n",
    "\n",
    "\n",
    "if len(classes)>0:\n",
    "    c_triple = \"{?y a movie:\"+classes[0]+\"}\"\n",
    "    if(len(individuals)>0):\n",
    "        c_triple = c_triple + \"{?x (movie:|!movie:)|^(movie:|!movie:)* ?y}\"\n",
    "if len(properties)>0:\n",
    "    p_triple = \"{?x movie:\"+properties[0]+\"|^movie:\"+properties[0]+\" ?y}\"\n",
    "\n",
    "    \n",
    "if  len(individuals)>0:\n",
    "    first_key = next(iter(individuals))\n",
    "    if(individuals[first_key]==\"not_mapped\"):\n",
    "        if(len(properties)==0):\n",
    "            i_triple = \"{?x a ?y} {?x movie:name ?name} FILTER(?name='\"+first_key+\"')\"            \n",
    "        else:\n",
    "            i_triple = \" {?x movie:name ?name} FILTER(?name='\"+first_key+\"')\"\n",
    "    else:\n",
    "         i_triple = \"{?x a movie:\"+individuals[first_key]+\"} {?x movie:name ?name} FILTER(?name='\"+first_key+\"')\"\n",
    "            \n",
    "query_start =      \"\"\"\n",
    "                PREFIX movie: <http://www.semanticweb.org/chand/ShopManagementSystem#>\n",
    "                SELECT  ?y\n",
    "                WHERE{\n",
    "                \"\"\"\n",
    "query_end =    \"}\"\n",
    "\n",
    "query = query_start+c_triple+p_triple+i_triple+query_end\n",
    "print(query)\n",
    "sparql.setQuery(query)\n",
    "result = sparql.query().bindings"
   ]
  },
  {
   "cell_type": "code",
   "execution_count": 12,
   "id": "db2dfb3a",
   "metadata": {},
   "outputs": [
    {
     "name": "stdout",
     "output_type": "stream",
     "text": [
      "1499.99\n"
     ]
    }
   ],
   "source": [
    "for x in result:\n",
    "    print(x[\"y\"].value)"
   ]
  }
 ],
 "metadata": {
  "kernelspec": {
   "display_name": "Python 3 (ipykernel)",
   "language": "python",
   "name": "python3"
  },
  "language_info": {
   "codemirror_mode": {
    "name": "ipython",
    "version": 3
   },
   "file_extension": ".py",
   "mimetype": "text/x-python",
   "name": "python",
   "nbconvert_exporter": "python",
   "pygments_lexer": "ipython3",
   "version": "3.11.4"
  }
 },
 "nbformat": 4,
 "nbformat_minor": 5
}
